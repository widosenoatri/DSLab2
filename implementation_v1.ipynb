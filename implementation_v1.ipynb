{
 "cells": [
  {
   "cell_type": "markdown",
   "metadata": {},
   "source": [
    "# Implementation of the Model"
   ]
  },
  {
   "cell_type": "code",
   "execution_count": 2,
   "metadata": {},
   "outputs": [
    {
     "name": "stdout",
     "output_type": "stream",
     "text": [
      "CUDA Available: True\n",
      "CUDA Version: 12.1\n",
      "Number of GPUs: 1\n"
     ]
    }
   ],
   "source": [
    "# cuda check\n",
    "import torch\n",
    "print(\"CUDA Available:\", torch.cuda.is_available())\n",
    "print(\"CUDA Version:\", torch.version.cuda)\n",
    "print(\"Number of GPUs:\", torch.cuda.device_count())"
   ]
  },
  {
   "cell_type": "markdown",
   "metadata": {},
   "source": [
    "## Data1: Dodgers data set"
   ]
  },
  {
   "cell_type": "markdown",
   "metadata": {},
   "source": [
    "#### Model implementation with torch"
   ]
  },
  {
   "cell_type": "code",
   "execution_count": 3,
   "metadata": {},
   "outputs": [],
   "source": [
    "import torch.nn as nn\n",
    "import torch.nn.functional as F\n",
    "import torch.optim as optim"
   ]
  },
  {
   "cell_type": "code",
   "execution_count": 13,
   "metadata": {},
   "outputs": [],
   "source": [
    "class TimeSeriesUNet(nn.Module):\n",
    "    def __init__(self, in_channels, out_channels):\n",
    "        super(TimeSeriesUNet, self).__init__()\n",
    "\n",
    "        def conv_block(in_c, out_c):\n",
    "            return nn.Sequential(\n",
    "                nn.Conv1d(in_c, out_c, kernel_size=3, padding=1),\n",
    "                nn.BatchNorm1d(out_c),\n",
    "                nn.ReLU(inplace=True),\n",
    "                nn.Conv1d(out_c, out_c, kernel_size=3, padding=1),\n",
    "                nn.BatchNorm1d(out_c),\n",
    "                nn.ReLU(inplace=True)\n",
    "            )\n",
    "\n",
    "        def up_block(in_c, out_c):\n",
    "            return nn.Sequential(\n",
    "                nn.Upsample(scale_factor=2, mode='nearest'),\n",
    "                nn.Conv1d(in_c, out_c, kernel_size=3, padding=1),\n",
    "                nn.ReLU(inplace=True)\n",
    "            )\n",
    "\n",
    "        self.enc1 = conv_block(in_channels, 16)\n",
    "        self.enc2 = conv_block(16, 32)\n",
    "        self.enc3 = conv_block(32, 64)\n",
    "        self.enc4 = conv_block(64, 128)\n",
    "        self.enc5 = conv_block(128, 256)\n",
    "\n",
    "        self.pool = nn.MaxPool1d(kernel_size=2)\n",
    "\n",
    "        self.up4 = up_block(256, 128)\n",
    "        self.up3 = up_block(128, 64)\n",
    "        self.up2 = up_block(64, 32)\n",
    "        self.up1 = up_block(32, 16)\n",
    "\n",
    "        self.reduce4 = nn.Conv1d(256, 128, kernel_size=1)\n",
    "        self.reduce3 = nn.Conv1d(128, 64, kernel_size=1)\n",
    "        self.reduce2 = nn.Conv1d(64, 32, kernel_size=1)\n",
    "        self.reduce1 = nn.Conv1d(32, 16, kernel_size=1)\n",
    "\n",
    "        self.final = nn.Conv1d(16, out_channels, kernel_size=1)\n",
    "\n",
    "    def crop_and_concat(self, encoder_features, decoder_features):\n",
    "        _, _, H_decoder = decoder_features.shape\n",
    "        encoder_features = F.interpolate(encoder_features, size=H_decoder, mode=\"nearest\")\n",
    "        return torch.cat((encoder_features, decoder_features), dim=1)\n",
    "\n",
    "    def forward(self, x):\n",
    "        enc1 = self.enc1(x)\n",
    "        # print(enc1.shape)\n",
    "        enc2 = self.enc2(self.pool(enc1))\n",
    "        # print(enc2.shape)\n",
    "        enc3 = self.enc3(self.pool(enc2))\n",
    "        # print(enc3.shape)\n",
    "        enc4 = self.enc4(self.pool(enc3))\n",
    "        # print(enc4.shape)\n",
    "        bottleneck = self.enc5(self.pool(enc4))\n",
    "        # print(bottleneck.shape)\n",
    "\n",
    "        up4 = self.up4(bottleneck)\n",
    "        # print(up4.shape)\n",
    "        up4 = self.crop_and_concat(enc4, up4)\n",
    "        # print(up4.shape)\n",
    "        up4 = self.reduce4(up4)\n",
    "        # print(up4.shape)\n",
    "\n",
    "        up3 = self.up3(up4)\n",
    "        # print(up3.shape)\n",
    "        up3 = self.crop_and_concat(enc3, up3)\n",
    "        # print(up3.shape)\n",
    "        up3 = self.reduce3(up3)\n",
    "        # print(up3.shape)\n",
    "\n",
    "        up2 = self.up2(up3)\n",
    "        # print(up2.shape)\n",
    "        up2 = self.crop_and_concat(enc2, up2)\n",
    "        # print(up2.shape)\n",
    "        up2 = self.reduce2(up2)\n",
    "        # print(up2.shape)\n",
    "\n",
    "        up1 = self.up1(up2)\n",
    "        # print(up1.shape)\n",
    "        up1 = self.crop_and_concat(enc1, up1)\n",
    "        # print(up1.shape)\n",
    "        up1 = self.reduce1(up1)\n",
    "        # print(up1.shape)\n",
    "\n",
    "        return torch.sigmoid(self.final(up1))"
   ]
  },
  {
   "cell_type": "markdown",
   "metadata": {},
   "source": [
    "#### Import data set"
   ]
  },
  {
   "cell_type": "code",
   "execution_count": 5,
   "metadata": {},
   "outputs": [],
   "source": [
    "import pandas as pd"
   ]
  },
  {
   "cell_type": "code",
   "execution_count": 6,
   "metadata": {},
   "outputs": [
    {
     "data": {
      "text/html": [
       "<div>\n",
       "<style scoped>\n",
       "    .dataframe tbody tr th:only-of-type {\n",
       "        vertical-align: middle;\n",
       "    }\n",
       "\n",
       "    .dataframe tbody tr th {\n",
       "        vertical-align: top;\n",
       "    }\n",
       "\n",
       "    .dataframe thead th {\n",
       "        text-align: right;\n",
       "    }\n",
       "</style>\n",
       "<table border=\"1\" class=\"dataframe\">\n",
       "  <thead>\n",
       "    <tr style=\"text-align: right;\">\n",
       "      <th></th>\n",
       "      <th>timestamp</th>\n",
       "      <th>count</th>\n",
       "      <th>label</th>\n",
       "    </tr>\n",
       "  </thead>\n",
       "  <tbody>\n",
       "    <tr>\n",
       "      <th>0</th>\n",
       "      <td>2005-04-10 00:00:00</td>\n",
       "      <td>0.0</td>\n",
       "      <td>0</td>\n",
       "    </tr>\n",
       "  </tbody>\n",
       "</table>\n",
       "</div>"
      ],
      "text/plain": [
       "             timestamp  count  label\n",
       "0  2005-04-10 00:00:00    0.0      0"
      ]
     },
     "execution_count": 6,
     "metadata": {},
     "output_type": "execute_result"
    }
   ],
   "source": [
    "data_1 = pd.read_csv('data/dodgers_data.csv')\n",
    "data_1.head(1)"
   ]
  },
  {
   "cell_type": "code",
   "execution_count": 7,
   "metadata": {},
   "outputs": [
    {
     "data": {
      "text/html": [
       "<div>\n",
       "<style scoped>\n",
       "    .dataframe tbody tr th:only-of-type {\n",
       "        vertical-align: middle;\n",
       "    }\n",
       "\n",
       "    .dataframe tbody tr th {\n",
       "        vertical-align: top;\n",
       "    }\n",
       "\n",
       "    .dataframe thead th {\n",
       "        text-align: right;\n",
       "    }\n",
       "</style>\n",
       "<table border=\"1\" class=\"dataframe\">\n",
       "  <thead>\n",
       "    <tr style=\"text-align: right;\">\n",
       "      <th></th>\n",
       "      <th>count</th>\n",
       "      <th>label</th>\n",
       "    </tr>\n",
       "    <tr>\n",
       "      <th>timestamp</th>\n",
       "      <th></th>\n",
       "      <th></th>\n",
       "    </tr>\n",
       "  </thead>\n",
       "  <tbody>\n",
       "    <tr>\n",
       "      <th>2005-04-10 00:00:00</th>\n",
       "      <td>0.0</td>\n",
       "      <td>0</td>\n",
       "    </tr>\n",
       "  </tbody>\n",
       "</table>\n",
       "</div>"
      ],
      "text/plain": [
       "                     count  label\n",
       "timestamp                        \n",
       "2005-04-10 00:00:00    0.0      0"
      ]
     },
     "execution_count": 7,
     "metadata": {},
     "output_type": "execute_result"
    }
   ],
   "source": [
    "data_1.set_index('timestamp', inplace=True)\n",
    "data_1.head(1)"
   ]
  },
  {
   "cell_type": "code",
   "execution_count": 8,
   "metadata": {},
   "outputs": [],
   "source": [
    "import numpy as np\n",
    "from sklearn.model_selection import train_test_split\n",
    "from torch.utils.data import Dataset, DataLoader\n",
    "# from sklearn.preprocessing import MinMaxScaler\n",
    "\n",
    "# # Normalize the `count` column\n",
    "# scaler = MinMaxScaler()\n",
    "# data_1[\"count\"] = scaler.fit_transform(data_1[\"count\"].values.reshape(-1, 1))\n",
    "data_1[\"count\"] = data_1[\"count\"].astype(np.float32)\n",
    "\n",
    "# Convert to supervised data\n",
    "sequence_length = 1024  # Define how many time steps per sample\n",
    "X, y = [], []\n",
    "for i in range(len(data_1) - sequence_length):\n",
    "    X.append(data_1[\"count\"].iloc[i:i + sequence_length].values)\n",
    "    y.append(data_1[\"label\"].iloc[i + sequence_length - 1])  # Label corresponds to the last step\n",
    "X = np.array(X)\n",
    "y = np.array(y)\n",
    "\n",
    "# Train/test split\n",
    "X_train, X_test, y_train, y_test = train_test_split(X, y, test_size=0.2, random_state=42)"
   ]
  },
  {
   "cell_type": "markdown",
   "metadata": {},
   "source": [
    "### Create pytorch data set"
   ]
  },
  {
   "cell_type": "code",
   "execution_count": 9,
   "metadata": {},
   "outputs": [],
   "source": [
    "class TimeSeriesDataset(Dataset):\n",
    "    def __init__(self, X, y):\n",
    "        self.X = torch.tensor(X, dtype=torch.float32).unsqueeze(1)\n",
    "        self.y = torch.tensor(y, dtype=torch.float32).unsqueeze(1)\n",
    "\n",
    "    def __len__(self):\n",
    "        return len(self.X)\n",
    "\n",
    "    def __getitem__(self, idx):\n",
    "        return self.X[idx], self.y[idx]\n",
    "\n",
    "# Create Datasets and DataLoaders\n",
    "train_dataset = TimeSeriesDataset(X_train, y_train)\n",
    "test_dataset = TimeSeriesDataset(X_test, y_test)\n",
    "\n",
    "train_loader = DataLoader(train_dataset, batch_size=16, shuffle=True)\n",
    "test_loader = DataLoader(test_dataset, batch_size=16, shuffle=False)"
   ]
  },
  {
   "cell_type": "code",
   "execution_count": 10,
   "metadata": {},
   "outputs": [
    {
     "name": "stdout",
     "output_type": "stream",
     "text": [
      "torch.Size([1, 1024]) torch.Size([1])\n"
     ]
    }
   ],
   "source": [
    "x, y = train_dataset[0]\n",
    "print(x.shape, y.shape)"
   ]
  },
  {
   "cell_type": "markdown",
   "metadata": {},
   "source": [
    "### Training"
   ]
  },
  {
   "cell_type": "code",
   "execution_count": 11,
   "metadata": {},
   "outputs": [
    {
     "data": {
      "text/plain": [
       "True"
      ]
     },
     "execution_count": 11,
     "metadata": {},
     "output_type": "execute_result"
    }
   ],
   "source": [
    "torch.cuda.is_available()"
   ]
  },
  {
   "cell_type": "code",
   "execution_count": null,
   "metadata": {},
   "outputs": [
    {
     "name": "stdout",
     "output_type": "stream",
     "text": [
      "Epoch 1/10, Loss: 0.2181\n",
      "Epoch 2/10, Loss: 0.2045\n",
      "Epoch 3/10, Loss: 0.1948\n",
      "Epoch 4/10, Loss: 0.1887\n",
      "Epoch 5/10, Loss: 0.1822\n",
      "Epoch 6/10, Loss: 0.1759\n",
      "Epoch 7/10, Loss: 0.1710\n",
      "Epoch 8/10, Loss: 0.1677\n",
      "Epoch 9/10, Loss: 0.1656\n",
      "Epoch 10/10, Loss: 0.1643\n"
     ]
    }
   ],
   "source": [
    "# Define model, loss, and optimizer\n",
    "device = torch.device(\"cuda\" if torch.cuda.is_available() else \"cpu\")\n",
    "model = TimeSeriesUNet(in_channels=1, out_channels=1).to(device)\n",
    "criterion = nn.BCELoss()  # Binary Cross-Entropy Loss for anomaly detection\n",
    "optimizer = torch.optim.Adam(model.parameters(), lr=1e-3)\n",
    "loss_func = []\n",
    "# Training loop\n",
    "epochs = 10\n",
    "for epoch in range(epochs):\n",
    "    model.train()\n",
    "    total_loss = 0\n",
    "    for X_batch, y_batch in train_loader:\n",
    "        # Move data to GPU\n",
    "        X_batch, y_batch = X_batch.to(device), y_batch.to(device)\n",
    "\n",
    "        # Ensure target tensor is float\n",
    "        y_batch = y_batch.float()\n",
    "\n",
    "        # Expand target size to match model output\n",
    "        y_batch = y_batch.unsqueeze(-1).repeat(1, 1, X_batch.shape[-1])\n",
    "\n",
    "        # Forward pass\n",
    "        outputs = model(X_batch)\n",
    "\n",
    "        # Compute loss\n",
    "        loss = criterion(outputs, y_batch)\n",
    "\n",
    "        # Backward pass\n",
    "        optimizer.zero_grad()\n",
    "        loss.backward()\n",
    "        optimizer.step()\n",
    "\n",
    "        total_loss += loss.item()\n",
    "\n",
    "    loss_func.append(total_loss / len(train_loader))\n",
    "    print(f\"Epoch {epoch + 1}/{epochs}, Loss: {total_loss / len(train_loader):.4f}\")"
   ]
  },
  {
   "cell_type": "markdown",
   "metadata": {},
   "source": [
    "### Testing the model"
   ]
  },
  {
   "cell_type": "code",
   "execution_count": 15,
   "metadata": {},
   "outputs": [],
   "source": [
    "model.eval()\n",
    "with torch.no_grad():\n",
    "    for snapshots, masks in train_loader:\n",
    "        snapshots = snapshots.to(device)\n",
    "        outputs = model(snapshots)\n",
    "        break"
   ]
  },
  {
   "cell_type": "code",
   "execution_count": 16,
   "metadata": {},
   "outputs": [
    {
     "data": {
      "image/png": "[encoded data removed]",
      "text/plain": [
       "<Figure size 640x480 with 1 Axes>"
      ]
     },
     "metadata": {},
     "output_type": "display_data"
    }
   ],
   "source": [
    "import matplotlib.pyplot as plt\n",
    "\n",
    "# Assuming total_loss is a list that stores the loss value for each epoch\n",
    "loss_values = [0.2181,\n",
    "               0.2045,\n",
    "               0.1948,\n",
    "               0.1887,\n",
    "               0.1822,\n",
    "               0.1759,\n",
    "               0.1710,\n",
    "               0.1677,\n",
    "               0.1656,\n",
    "               0.1643\n",
    "              ]\n",
    "\n",
    "plt.plot(range(1, len(loss_values) + 1), loss_values, marker='o')\n",
    "plt.xlabel('Epoch')\n",
    "plt.ylabel('Loss')\n",
    "plt.title('Loss Function Over Epochs')\n",
    "plt.grid(True)\n",
    "plt.show()"
   ]
  },
  {
   "cell_type": "markdown",
   "metadata": {},
   "source": [
    "## Data2: GHL"
   ]
  },
  {
   "cell_type": "markdown",
   "metadata": {},
   "source": [
    "#### Model implementation with torch"
   ]
  },
  {
   "cell_type": "code",
   "execution_count": 17,
   "metadata": {},
   "outputs": [],
   "source": [
    "class MUNet(nn.Module):\n",
    "    def __init__(self, in_channels_branch1, in_channels_branch2, out_channels):\n",
    "        super(MUNet, self).__init__()\n",
    "\n",
    "        def conv_block(in_c, out_c):\n",
    "            return nn.Sequential(\n",
    "                nn.Conv1d(in_c, out_c, kernel_size=3, padding=1),\n",
    "                nn.BatchNorm1d(out_c),\n",
    "                nn.ReLU(inplace=True),\n",
    "                nn.Conv1d(out_c, out_c, kernel_size=3, padding=1),\n",
    "                nn.BatchNorm1d(out_c),\n",
    "                nn.ReLU(inplace=True)\n",
    "            )\n",
    "\n",
    "        def up_block(in_c, out_c):\n",
    "            return nn.Sequential(\n",
    "                nn.ConvTranspose1d(in_c, out_c, kernel_size=2, stride=2),\n",
    "                nn.ReLU(inplace=True)\n",
    "            )\n",
    "\n",
    "        # Encoder branch 1\n",
    "        self.enc1_branch1 = conv_block(in_channels_branch1, 16)\n",
    "        self.enc2_branch1 = conv_block(16, 32)\n",
    "        self.enc3_branch1 = conv_block(32, 64)\n",
    "        self.enc4_branch1 = conv_block(64, 128)\n",
    "\n",
    "        # Encoder branch 2\n",
    "        self.enc1_branch2 = conv_block(in_channels_branch2, 16)\n",
    "        self.enc2_branch2 = conv_block(16, 32)\n",
    "        self.enc3_branch2 = conv_block(32, 64)\n",
    "        self.enc4_branch2 = conv_block(64, 128)\n",
    "\n",
    "        # Pooling layer\n",
    "        self.pool = nn.MaxPool1d(kernel_size=2)\n",
    "\n",
    "        # Bottleneck\n",
    "        self.bottleneck = conv_block(256, 256)\n",
    "\n",
    "        # Decoder\n",
    "        self.up4 = up_block(256, 128)\n",
    "        self.dec4 = conv_block(256, 128)\n",
    "        self.up3 = up_block(128, 64)\n",
    "        self.dec3 = conv_block(128, 64)\n",
    "        self.up2 = up_block(64, 32)\n",
    "        self.dec2 = conv_block(64, 32)\n",
    "        self.up1 = up_block(32, 16)\n",
    "        self.dec1 = conv_block(32, 16)\n",
    "\n",
    "        # Final output layer\n",
    "        self.final = nn.Conv1d(16, out_channels, kernel_size=1)\n",
    "\n",
    "    def crop_and_concat(self, encoder_features, decoder_features):\n",
    "        _, _, H_decoder = decoder_features.shape\n",
    "        encoder_features = F.interpolate(encoder_features, size=H_decoder, mode=\"nearest\")\n",
    "        return torch.cat((encoder_features, decoder_features), dim=1)\n",
    "\n",
    "    def forward(self, x1, x2):\n",
    "        # Encoder branch 1\n",
    "        enc1_1 = self.enc1_branch1(x1)\n",
    "        enc2_1 = self.enc2_branch1(self.pool(enc1_1))\n",
    "        enc3_1 = self.enc3_branch1(self.pool(enc2_1))\n",
    "        enc4_1 = self.enc4_branch1(self.pool(enc3_1))\n",
    "\n",
    "        # Encoder branch 2\n",
    "        enc1_2 = self.enc1_branch2(x2)\n",
    "        enc2_2 = self.enc2_branch2(self.pool(enc1_2))\n",
    "        enc3_2 = self.enc3_branch2(self.pool(enc2_2))\n",
    "        enc4_2 = self.enc4_branch2(self.pool(enc3_2))\n",
    "\n",
    "        # Bottleneck\n",
    "        bottleneck = self.bottleneck(torch.cat((enc4_1, enc4_2), dim=1))\n",
    "\n",
    "        # Decoder\n",
    "        up4 = self.up4(bottleneck)\n",
    "        dec4 = self.dec4(self.crop_and_concat(torch.cat((enc4_1, enc4_2), dim=1), up4))\n",
    "        up3 = self.up3(dec4)\n",
    "        dec3 = self.dec3(self.crop_and_concat(torch.cat((enc3_1, enc3_2), dim=1), up3))\n",
    "        up2 = self.up2(dec3)\n",
    "        dec2 = self.dec2(self.crop_and_concat(torch.cat((enc2_1, enc2_2), dim=1), up2))\n",
    "        up1 = self.up1(dec2)\n",
    "        dec1 = self.dec1(self.crop_and_concat(torch.cat((enc1_1, enc1_2), dim=1), up1))\n",
    "\n",
    "        return torch.sigmoid(self.final(dec1))"
   ]
  },
  {
   "cell_type": "markdown",
   "metadata": {},
   "source": [
    "### Import data set"
   ]
  },
  {
   "cell_type": "code",
   "execution_count": 18,
   "metadata": {},
   "outputs": [],
   "source": [
    "data_2 = pd.read_csv('data/ghl_data.csv')\n",
    "data_2_b = pd.read_csv('data/ghl_data_b.csv')"
   ]
  },
  {
   "cell_type": "code",
   "execution_count": 19,
   "metadata": {},
   "outputs": [
    {
     "data": {
      "text/html": [
       "<div>\n",
       "<style scoped>\n",
       "    .dataframe tbody tr th:only-of-type {\n",
       "        vertical-align: middle;\n",
       "    }\n",
       "\n",
       "    .dataframe tbody tr th {\n",
       "        vertical-align: top;\n",
       "    }\n",
       "\n",
       "    .dataframe thead th {\n",
       "        text-align: right;\n",
       "    }\n",
       "</style>\n",
       "<table border=\"1\" class=\"dataframe\">\n",
       "  <thead>\n",
       "    <tr style=\"text-align: right;\">\n",
       "      <th></th>\n",
       "      <th>Time</th>\n",
       "      <th>RT_level_ini</th>\n",
       "      <th>DANGER</th>\n",
       "      <th>RT_temperature.T</th>\n",
       "      <th>C_temperature.T</th>\n",
       "      <th>RT_level</th>\n",
       "      <th>dT_rand</th>\n",
       "      <th>limiter.y</th>\n",
       "      <th>dt_rand</th>\n",
       "      <th>C_level</th>\n",
       "      <th>...</th>\n",
       "      <th>HT_level</th>\n",
       "      <th>limiter1.y</th>\n",
       "      <th>dL_rand</th>\n",
       "      <th>out_valve_act_1.0</th>\n",
       "      <th>inv_valve_act_1.0</th>\n",
       "      <th>inj_valve_act_1.0</th>\n",
       "      <th>Relaxing.active_1.0</th>\n",
       "      <th>boundary.m_flow_in_20.0</th>\n",
       "      <th>dir_valve_act_1.0</th>\n",
       "      <th>heater_act_1.0</th>\n",
       "    </tr>\n",
       "  </thead>\n",
       "  <tbody>\n",
       "    <tr>\n",
       "      <th>0</th>\n",
       "      <td>0.0</td>\n",
       "      <td>0.0</td>\n",
       "      <td>0.0</td>\n",
       "      <td>0.002441</td>\n",
       "      <td>0.0</td>\n",
       "      <td>0.0</td>\n",
       "      <td>0.461757</td>\n",
       "      <td>0.35503</td>\n",
       "      <td>0.500675</td>\n",
       "      <td>0.0</td>\n",
       "      <td>...</td>\n",
       "      <td>0.0</td>\n",
       "      <td>0.500675</td>\n",
       "      <td>0.461757</td>\n",
       "      <td>0.0</td>\n",
       "      <td>0.0</td>\n",
       "      <td>0.0</td>\n",
       "      <td>0.0</td>\n",
       "      <td>0.0</td>\n",
       "      <td>0.0</td>\n",
       "      <td>0.0</td>\n",
       "    </tr>\n",
       "  </tbody>\n",
       "</table>\n",
       "<p>1 rows × 21 columns</p>\n",
       "</div>"
      ],
      "text/plain": [
       "   Time  RT_level_ini  DANGER  RT_temperature.T  C_temperature.T  RT_level  \\\n",
       "0   0.0           0.0     0.0          0.002441              0.0       0.0   \n",
       "\n",
       "    dT_rand  limiter.y   dt_rand  C_level  ...  HT_level  limiter1.y  \\\n",
       "0  0.461757    0.35503  0.500675      0.0  ...       0.0    0.500675   \n",
       "\n",
       "    dL_rand  out_valve_act_1.0  inv_valve_act_1.0  inj_valve_act_1.0  \\\n",
       "0  0.461757                0.0                0.0                0.0   \n",
       "\n",
       "   Relaxing.active_1.0  boundary.m_flow_in_20.0  dir_valve_act_1.0  \\\n",
       "0                  0.0                      0.0                0.0   \n",
       "\n",
       "   heater_act_1.0  \n",
       "0             0.0  \n",
       "\n",
       "[1 rows x 21 columns]"
      ]
     },
     "execution_count": 19,
     "metadata": {},
     "output_type": "execute_result"
    }
   ],
   "source": [
    "data_2.head(1)"
   ]
  },
  {
   "cell_type": "code",
   "execution_count": 20,
   "metadata": {},
   "outputs": [
    {
     "data": {
      "text/html": [
       "<div>\n",
       "<style scoped>\n",
       "    .dataframe tbody tr th:only-of-type {\n",
       "        vertical-align: middle;\n",
       "    }\n",
       "\n",
       "    .dataframe tbody tr th {\n",
       "        vertical-align: top;\n",
       "    }\n",
       "\n",
       "    .dataframe thead th {\n",
       "        text-align: right;\n",
       "    }\n",
       "</style>\n",
       "<table border=\"1\" class=\"dataframe\">\n",
       "  <thead>\n",
       "    <tr style=\"text-align: right;\">\n",
       "      <th></th>\n",
       "      <th>RT_level_ini</th>\n",
       "      <th>DANGER</th>\n",
       "      <th>RT_temperature.T</th>\n",
       "      <th>C_temperature.T</th>\n",
       "      <th>RT_level</th>\n",
       "      <th>dT_rand</th>\n",
       "      <th>limiter.y</th>\n",
       "      <th>dt_rand</th>\n",
       "      <th>C_level</th>\n",
       "      <th>HT_temperature.T</th>\n",
       "      <th>HT_level</th>\n",
       "      <th>limiter1.y</th>\n",
       "      <th>dL_rand</th>\n",
       "      <th>out_valve_act_1.0</th>\n",
       "      <th>inv_valve_act_1.0</th>\n",
       "      <th>inj_valve_act_1.0</th>\n",
       "      <th>Relaxing.active_1.0</th>\n",
       "      <th>boundary.m_flow_in_20.0</th>\n",
       "      <th>dir_valve_act_1.0</th>\n",
       "      <th>heater_act_1.0</th>\n",
       "    </tr>\n",
       "    <tr>\n",
       "      <th>Time</th>\n",
       "      <th></th>\n",
       "      <th></th>\n",
       "      <th></th>\n",
       "      <th></th>\n",
       "      <th></th>\n",
       "      <th></th>\n",
       "      <th></th>\n",
       "      <th></th>\n",
       "      <th></th>\n",
       "      <th></th>\n",
       "      <th></th>\n",
       "      <th></th>\n",
       "      <th></th>\n",
       "      <th></th>\n",
       "      <th></th>\n",
       "      <th></th>\n",
       "      <th></th>\n",
       "      <th></th>\n",
       "      <th></th>\n",
       "      <th></th>\n",
       "    </tr>\n",
       "  </thead>\n",
       "  <tbody>\n",
       "    <tr>\n",
       "      <th>0.0</th>\n",
       "      <td>0.0</td>\n",
       "      <td>0.0</td>\n",
       "      <td>0.002441</td>\n",
       "      <td>0.0</td>\n",
       "      <td>0.0</td>\n",
       "      <td>0.461757</td>\n",
       "      <td>0.35503</td>\n",
       "      <td>0.500675</td>\n",
       "      <td>0.0</td>\n",
       "      <td>0.0</td>\n",
       "      <td>0.0</td>\n",
       "      <td>0.500675</td>\n",
       "      <td>0.461757</td>\n",
       "      <td>0.0</td>\n",
       "      <td>0.0</td>\n",
       "      <td>0.0</td>\n",
       "      <td>0.0</td>\n",
       "      <td>0.0</td>\n",
       "      <td>0.0</td>\n",
       "      <td>0.0</td>\n",
       "    </tr>\n",
       "  </tbody>\n",
       "</table>\n",
       "</div>"
      ],
      "text/plain": [
       "      RT_level_ini  DANGER  RT_temperature.T  C_temperature.T  RT_level  \\\n",
       "Time                                                                      \n",
       "0.0            0.0     0.0          0.002441              0.0       0.0   \n",
       "\n",
       "       dT_rand  limiter.y   dt_rand  C_level  HT_temperature.T  HT_level  \\\n",
       "Time                                                                       \n",
       "0.0   0.461757    0.35503  0.500675      0.0               0.0       0.0   \n",
       "\n",
       "      limiter1.y   dL_rand  out_valve_act_1.0  inv_valve_act_1.0  \\\n",
       "Time                                                               \n",
       "0.0     0.500675  0.461757                0.0                0.0   \n",
       "\n",
       "      inj_valve_act_1.0  Relaxing.active_1.0  boundary.m_flow_in_20.0  \\\n",
       "Time                                                                    \n",
       "0.0                 0.0                  0.0                      0.0   \n",
       "\n",
       "      dir_valve_act_1.0  heater_act_1.0  \n",
       "Time                                     \n",
       "0.0                 0.0             0.0  "
      ]
     },
     "execution_count": 20,
     "metadata": {},
     "output_type": "execute_result"
    }
   ],
   "source": [
    "data_2.set_index('Time', inplace=True)\n",
    "data_2_b.set_index('Time', inplace=True)\n",
    "\n",
    "data_2.head(1)"
   ]
  },
  {
   "cell_type": "markdown",
   "metadata": {},
   "source": [
    "### Data preparation"
   ]
  },
  {
   "cell_type": "code",
   "execution_count": 21,
   "metadata": {},
   "outputs": [],
   "source": [
    "labels = data_2['DANGER'].values\n",
    "data_2 = data_2.drop(columns=['DANGER'])"
   ]
  },
  {
   "cell_type": "code",
   "execution_count": 22,
   "metadata": {},
   "outputs": [],
   "source": [
    "data1_train, data1_test, data2_train, data2_test, labels_train, labels_test = train_test_split(\n",
    "    data_2, data_2, labels, test_size=0.2, random_state=42)"
   ]
  },
  {
   "cell_type": "code",
   "execution_count": 23,
   "metadata": {},
   "outputs": [],
   "source": [
    "import torch\n",
    "from torch.utils.data import Dataset\n",
    "\n",
    "class GHLDataset(Dataset):\n",
    "    def __init__(self, data1, data2, labels):\n",
    "        \"\"\"\n",
    "        Args:\n",
    "            data1 (numpy.ndarray): First data stream, shape [num_samples, sequence_length].\n",
    "            data2 (numpy.ndarray): Second data stream, shape [num_samples, sequence_length].\n",
    "            labels (numpy.ndarray): Target labels, shape [num_samples, sequence_length].\n",
    "        \"\"\"\n",
    "        self.data1 = data1\n",
    "        self.data2 = data2\n",
    "        self.labels = labels\n",
    "\n",
    "    def __len__(self):\n",
    "        return len(self.labels)\n",
    "\n",
    "    def __getitem__(self, idx):\n",
    "        x1 = torch.tensor(self.data1[idx], dtype=torch.float32).unsqueeze(0)  # Add channel dim\n",
    "        x2 = torch.tensor(self.data2[idx], dtype=torch.float32).unsqueeze(0)  # Add channel dim\n",
    "        y = torch.tensor(self.labels[idx], dtype=torch.float32).unsqueeze(0)  # Add channel dim\n",
    "        return x1, x2, y\n"
   ]
  },
  {
   "cell_type": "code",
   "execution_count": 24,
   "metadata": {},
   "outputs": [],
   "source": [
    "from torch.utils.data import DataLoader\n",
    "\n",
    "# Create datasets\n",
    "train_dataset = GHLDataset(data1_train, data2_train, labels_train)\n",
    "test_dataset = GHLDataset(data1_test, data2_test, labels_test)\n",
    "\n",
    "# Create DataLoaders\n",
    "train_loader = DataLoader(train_dataset, batch_size=16, shuffle=True)\n",
    "test_loader = DataLoader(test_dataset, batch_size=16, shuffle=False)\n"
   ]
  },
  {
   "cell_type": "markdown",
   "metadata": {},
   "source": [
    "### Training"
   ]
  },
  {
   "cell_type": "code",
   "execution_count": null,
   "metadata": {},
   "outputs": [],
   "source": [
    "device = torch.device(\"cuda\" if torch.cuda.is_available() else \"cpu\")\n",
    "model = MUNet(in_channels_branch1=1, in_channels_branch2=1, out_channels=1).to(device)\n",
    "criterion = nn.BCELoss()  # Binary Cross-Entropy Loss\n",
    "optimizer = torch.optim.Adam(model.parameters(), lr=1e-3)\n",
    "loss_func_munet = []\n",
    "\n",
    "# Training loop\n",
    "epochs = 10\n",
    "for epoch in range(epochs):\n",
    "    model.train()\n",
    "    total_loss = 0\n",
    "\n",
    "    for x1, x2, y in train_loader:\n",
    "        x1, x2, y = x1.to(device), x2.to(device), y.to(device)\n",
    "\n",
    "        # Forward pass\n",
    "        outputs = model(x1, x2)\n",
    "        loss = criterion(outputs, y)\n",
    "\n",
    "        # Backward pass\n",
    "        optimizer.zero_grad()\n",
    "        loss.backward()\n",
    "        optimizer.step()\n",
    "\n",
    "        total_loss += loss.item()\n",
    "\n",
    "    loss_func_munet.append(total_loss / len(train_loader))\n",
    "    print(f\"Epoch {epoch+1}/{epochs}, Loss: {total_loss/len(train_loader):.4f}\")"
   ]
  },
  {
   "cell_type": "markdown",
   "metadata": {},
   "source": [
    "### Evaluate the model"
   ]
  },
  {
   "cell_type": "code",
   "execution_count": null,
   "metadata": {},
   "outputs": [],
   "source": [
    "model.eval()\n",
    "test_loss = 0\n",
    "\n",
    "with torch.no_grad():\n",
    "    for x1, x2, y in test_loader:\n",
    "        x1, x2, y = x1.to(device), x2.to(device), y.to(device)\n",
    "        outputs = model(x1, x2)\n",
    "        loss = criterion(outputs, y)\n",
    "        test_loss += loss.item()\n",
    "\n",
    "print(f\"Test Loss: {test_loss/len(test_loader):.4f}\")"
   ]
  },
  {
   "cell_type": "markdown",
   "metadata": {},
   "source": [
    "## Data3: EMG data set"
   ]
  },
  {
   "cell_type": "markdown",
   "metadata": {},
   "source": [
    "### Import data set"
   ]
  },
  {
   "cell_type": "code",
   "execution_count": 32,
   "metadata": {},
   "outputs": [],
   "source": [
    "data_3 = pd.read_csv(r'data\\emg_data.csv')"
   ]
  },
  {
   "cell_type": "code",
   "execution_count": 33,
   "metadata": {},
   "outputs": [
    {
     "data": {
      "text/html": [
       "<div>\n",
       "<style scoped>\n",
       "    .dataframe tbody tr th:only-of-type {\n",
       "        vertical-align: middle;\n",
       "    }\n",
       "\n",
       "    .dataframe tbody tr th {\n",
       "        vertical-align: top;\n",
       "    }\n",
       "\n",
       "    .dataframe thead th {\n",
       "        text-align: right;\n",
       "    }\n",
       "</style>\n",
       "<table border=\"1\" class=\"dataframe\">\n",
       "  <thead>\n",
       "    <tr style=\"text-align: right;\">\n",
       "      <th></th>\n",
       "      <th>time</th>\n",
       "      <th>channel1</th>\n",
       "      <th>channel2</th>\n",
       "      <th>channel3</th>\n",
       "      <th>channel4</th>\n",
       "      <th>channel5</th>\n",
       "      <th>channel6</th>\n",
       "      <th>channel7</th>\n",
       "      <th>channel8</th>\n",
       "      <th>target</th>\n",
       "    </tr>\n",
       "  </thead>\n",
       "  <tbody>\n",
       "    <tr>\n",
       "      <th>0</th>\n",
       "      <td>1</td>\n",
       "      <td>0.470588</td>\n",
       "      <td>0.436681</td>\n",
       "      <td>0.412844</td>\n",
       "      <td>0.437229</td>\n",
       "      <td>0.501961</td>\n",
       "      <td>0.464435</td>\n",
       "      <td>0.461864</td>\n",
       "      <td>0.431111</td>\n",
       "      <td>0</td>\n",
       "    </tr>\n",
       "  </tbody>\n",
       "</table>\n",
       "</div>"
      ],
      "text/plain": [
       "   time  channel1  channel2  channel3  channel4  channel5  channel6  channel7  \\\n",
       "0     1  0.470588  0.436681  0.412844  0.437229  0.501961  0.464435  0.461864   \n",
       "\n",
       "   channel8  target  \n",
       "0  0.431111       0  "
      ]
     },
     "execution_count": 33,
     "metadata": {},
     "output_type": "execute_result"
    }
   ],
   "source": [
    "data_3.head(1)"
   ]
  },
  {
   "cell_type": "code",
   "execution_count": 35,
   "metadata": {},
   "outputs": [
    {
     "data": {
      "text/html": [
       "<div>\n",
       "<style scoped>\n",
       "    .dataframe tbody tr th:only-of-type {\n",
       "        vertical-align: middle;\n",
       "    }\n",
       "\n",
       "    .dataframe tbody tr th {\n",
       "        vertical-align: top;\n",
       "    }\n",
       "\n",
       "    .dataframe thead th {\n",
       "        text-align: right;\n",
       "    }\n",
       "</style>\n",
       "<table border=\"1\" class=\"dataframe\">\n",
       "  <thead>\n",
       "    <tr style=\"text-align: right;\">\n",
       "      <th></th>\n",
       "      <th>channel1</th>\n",
       "      <th>channel2</th>\n",
       "      <th>channel3</th>\n",
       "      <th>channel4</th>\n",
       "      <th>channel5</th>\n",
       "      <th>channel6</th>\n",
       "      <th>channel7</th>\n",
       "      <th>channel8</th>\n",
       "      <th>target</th>\n",
       "    </tr>\n",
       "    <tr>\n",
       "      <th>time</th>\n",
       "      <th></th>\n",
       "      <th></th>\n",
       "      <th></th>\n",
       "      <th></th>\n",
       "      <th></th>\n",
       "      <th></th>\n",
       "      <th></th>\n",
       "      <th></th>\n",
       "      <th></th>\n",
       "    </tr>\n",
       "  </thead>\n",
       "  <tbody>\n",
       "    <tr>\n",
       "      <th>1</th>\n",
       "      <td>0.470588</td>\n",
       "      <td>0.436681</td>\n",
       "      <td>0.412844</td>\n",
       "      <td>0.437229</td>\n",
       "      <td>0.501961</td>\n",
       "      <td>0.464435</td>\n",
       "      <td>0.461864</td>\n",
       "      <td>0.431111</td>\n",
       "      <td>0</td>\n",
       "    </tr>\n",
       "  </tbody>\n",
       "</table>\n",
       "</div>"
      ],
      "text/plain": [
       "      channel1  channel2  channel3  channel4  channel5  channel6  channel7  \\\n",
       "time                                                                         \n",
       "1     0.470588  0.436681  0.412844  0.437229  0.501961  0.464435  0.461864   \n",
       "\n",
       "      channel8  target  \n",
       "time                    \n",
       "1     0.431111       0  "
      ]
     },
     "execution_count": 35,
     "metadata": {},
     "output_type": "execute_result"
    }
   ],
   "source": [
    "data_3.set_index('time', inplace=True)\n",
    "data_3.head(1)"
   ]
  }
 ],
 "metadata": {
  "kernelspec": {
   "display_name": "Python 3",
   "language": "python",
   "name": "python3"
  },
  "language_info": {
   "codemirror_mode": {
    "name": "ipython",
    "version": 3
   },
   "file_extension": ".py",
   "mimetype": "text/x-python",
   "name": "python",
   "nbconvert_exporter": "python",
   "pygments_lexer": "ipython3",
   "version": "3.10.11"
  }
 },
 "nbformat": 4,
 "nbformat_minor": 2
}
